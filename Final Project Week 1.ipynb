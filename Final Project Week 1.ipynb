{
 "cells": [
  {
   "cell_type": "markdown",
   "metadata": {},
   "source": [
    "# Final Project Week 1\n",
    "## Eric Chang, August 2020"
   ]
  },
  {
   "cell_type": "markdown",
   "metadata": {},
   "source": [
    "### 1. Description of the problem and discussion of the background.\n",
    "___\n",
    "\n",
    "In this hypothetical scenario, we are working with a restauranteur in discussing the optimal neighborhood to open a new restaurant in Manhattan. The operator would like to know which neighborhood would lead to the highest likelihood of a successful new restaurant launch based on numerous factors including existing restaurants and their respective ratings/success in that neighborhood, and demographic data of the people who live in those neighborhoods. Our restauranteur client also is leaning towards opening an Italian restaurant, but would also like to know whether they might achieve better success if opening a restaurant of a different category. "
   ]
  },
  {
   "cell_type": "markdown",
   "metadata": {},
   "source": [
    "### 2. Description of the data and how it will be used to solve the problem.\n",
    "___\n",
    "\n",
    "To undertake the analysis requested by our client, we will be used data from several sources including the below: \n",
    "\n",
    "1. Foursquare data accessed through the Foursquare API \n",
    "  * Foursquare's Places API allows access to their Global database with real-time access to over 105 million places across 190 countries and 50 territories.\n",
    "  * The database containes over 70+ attributes for each venue (location of interest), and 900+ categories, based on crowdsourced information collected from the community \n",
    "  * The data from this database will be used to help solve the question asked by the restauranteur in that we will use the data to analyze the existing restaurants in each neighborhood, and their respective success (by looking at customer ratings), and to cluster similar neighborhoods by most common venues in those neighborhoods. \n",
    " \n",
    " \n",
    "2. NYC OpenData for populuation across neighborhood tabulation areas\n",
    "  * This data is collected by NYC from the census bureau's decennial data dissemination. Neighborhood tabulation areas (NTAs) are aggregations of census tracts that are subsets of NYC's 55 Public Use Microdata Areas (PUMAs). \n",
    "  * The data reflects the change in population from 2000 to 2010 for each NTA. \n",
    "  * We will use this data on two fronts: first, to see which neighborhoods are growing more rapidly in terms of population and which ones are declining, if any, and second, we will use the data to calculate the density of restaurants per capita for additional metrics when running the clustering algorithm, in conjunction with the Foursquare data above.\n",
    "  \n",
    "  \n",
    "3. RentHop data from a study posted in July 2017 studying affordability of neighborhoods in New York.\n",
    "  * This data compiled by RentHop consists of median income levels and median rents for 2BR apartments, by neighborhood for NYC. \n",
    "  * We will use this data to assess which neighborhoods have high levels of median household income, as well as affordability (defined as % of income that goes towards rent), as those items will also be important characteristics when clustering neighborhoods when combined with the data from the other two sources above. "
   ]
  }
 ],
 "metadata": {
  "kernelspec": {
   "display_name": "Python 3",
   "language": "python",
   "name": "python3"
  },
  "language_info": {
   "codemirror_mode": {
    "name": "ipython",
    "version": 3
   },
   "file_extension": ".py",
   "mimetype": "text/x-python",
   "name": "python",
   "nbconvert_exporter": "python",
   "pygments_lexer": "ipython3",
   "version": "3.8.3"
  }
 },
 "nbformat": 4,
 "nbformat_minor": 4
}
